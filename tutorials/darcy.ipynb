{
 "cells": [
  {
   "cell_type": "markdown",
   "id": "essential-american",
   "metadata": {},
   "source": [
    "# Darcy equation\n",
    "\n",
    "In this tutorial we present how to solve a Darcy equation with [PyGeoN](https://github.com/compgeo-mox/pygeon).  The unkwons are the velocity $q$ and the pressure $p$.\n",
    "\n",
    "Let $\\Omega=(0,1)^2$ with boundary $\\partial \\Omega$ and outward unit normal ${\\nu}$. Given \n",
    "$k$ the matrix permeability, we want to solve the following problem: find $({q}, p)$ such that\n",
    "$$\n",
    "\\left\\{\n",
    "\\begin{array}{ll}\n",
    "\\begin{array}{l} \n",
    "k^{-1} {q} + \\nabla p = {0}\\\\\n",
    "\\nabla \\cdot {q} = 0\n",
    "\\end{array}\n",
    "&\\text{in } \\Omega\n",
    "\\end{array}\n",
    "\\right.\n",
    "$$\n",
    "with boundary conditions:\n",
    "$$ p = 0 \\text{ on } \\partial_{top} \\Omega \\qquad p = 1 \\text{ on } \\partial_{bottom} \\Omega \\qquad \\nu \\cdot q = 0 \\text{ on } \\partial_{left} \\Omega \\cup \\partial_{right} \\Omega$$\n",
    "\n",
    "We present *step-by-step* how to create the grid, declare the problem data, and finally solve the problem."
   ]
  },
  {
   "cell_type": "markdown",
   "id": "planned-danger",
   "metadata": {},
   "source": [
    "First we import some of the standard modules, like `numpy` and `scipy.sparse`. Since PyGeoN is based on [PorePy](https://github.com/pmgbergen/porepy) we import both modules."
   ]
  },
  {
   "cell_type": "code",
   "execution_count": 1,
   "id": "dietary-perth",
   "metadata": {},
   "outputs": [],
   "source": [
    "import numpy as np\n",
    "import scipy.sparse as sps\n",
    "\n",
    "import porepy as pp\n",
    "import pygeon as pg"
   ]
  },
  {
   "cell_type": "markdown",
   "id": "roman-glossary",
   "metadata": {},
   "source": [
    "We create now the grid, since we will use a Raviart-Thomas approximation for ${q}$ we are restricted to simplices. In this example we consider a bi-dimensional structured grid, but the presented code will work also in 1d and 3d. PyGeoN works with mixed-dimensional grids, so we need to convert the grid."
   ]
  },
  {
   "cell_type": "code",
   "execution_count": 2,
   "id": "spectacular-saturn",
   "metadata": {},
   "outputs": [],
   "source": [
    "N = 10\n",
    "sd = pp.StructuredTriangleGrid([N] * 2, [1] * 2)\n",
    "# convert the grid into a mixed-dimensional grid\n",
    "mdg = pp.meshing.subdomains_to_mdg([sd])"
   ]
  },
  {
   "cell_type": "markdown",
   "id": "precious-belle",
   "metadata": {},
   "source": [
    "With the following code we set the data, in particular the permeability tensor and the boundary conditions. Since we need to identify each side of $\\partial \\Omega$ we need few steps."
   ]
  },
  {
   "cell_type": "code",
   "execution_count": 3,
   "id": "spare-person",
   "metadata": {},
   "outputs": [],
   "source": [
    "keyword = \"flow\"\n",
    "bc_val, bc_ess, source = [], [], []\n",
    "for sd, data in mdg.subdomains(return_data=True):\n",
    "    # permeability tensor\n",
    "    perm = pp.SecondOrderTensor(np.ones(sd.num_cells))\n",
    "    \n",
    "    # with the following steps we identify the portions of the boundary\n",
    "    # to impose the boundary conditions\n",
    "    b_faces = sd.tags[\"domain_boundary_faces\"].nonzero()[0]\n",
    "\n",
    "    b_face_centers = sd.face_centers[:, b_faces]\n",
    "    out_flow = b_face_centers[1, :] == 1\n",
    "    in_flow = b_face_centers[1, :] == 0\n",
    "    no_flow = np.logical_or.reduce((b_face_centers[0, :] == 1, b_face_centers[0, :] == 0))\n",
    "\n",
    "    faces, _, sign = sps.find(sd.cell_faces)\n",
    "    sign = sign[np.unique(faces, return_index=True)[1]]\n",
    "        \n",
    "    bc_val.append(np.hstack((np.zeros(sd.num_faces), np.zeros(sd.num_cells))))\n",
    "    bc_val[-1][b_faces[in_flow]] = -sign[b_faces[in_flow]] * np.ones(b_faces[in_flow].size)\n",
    "\n",
    "    bc_ess.append(np.hstack((np.zeros(sd.num_faces), np.zeros(sd.num_cells))))\n",
    "    bc_ess[-1][b_faces[no_flow]] = True\n",
    "    \n",
    "    source.append(np.zeros(sd.num_cells))\n",
    "\n",
    "    parameters = {\n",
    "        \"second_order_tensor\": perm,\n",
    "    }\n",
    "    data[pp.PARAMETERS] = {keyword: parameters}\n",
    "    data[pp.DISCRETIZATION_MATRICES] = {keyword: {}}\n",
    "    \n",
    "source = np.hstack(source)\n",
    "bc_val = np.hstack(bc_val)\n",
    "bc_ess = np.hstack(bc_ess).astype(bool)"
   ]
  },
  {
   "cell_type": "markdown",
   "id": "secure-flesh",
   "metadata": {},
   "source": [
    "Once the data are assigned to the mixed-dimensional grid, we construct the matrices. In particular, the linear system associated with the equation is given as\n",
    "$$\n",
    "\\left(\n",
    "\\begin{array}{cc} \n",
    "M & -B^\\top\\\\\n",
    "B & 0\n",
    "\\end{array}\n",
    "\\right)\n",
    "\\left(\n",
    "\\begin{array}{c} \n",
    "q\\\\ \n",
    "p\n",
    "\\end{array}\n",
    "\\right)\n",
    "=\\left(\n",
    "\\begin{array}{c} \n",
    "p_{\\partial}\\\\ \n",
    "0\n",
    "\\end{array}\n",
    "\\right)\n",
    "$$<br>\n",
    "where $p_{\\partial}$ is the vector associated to the pressure boundary contions. To construct the saddle-point problem, we rely on the `scipy.sparse` function `bmat`. Once the matrix is created, we also construct the right-hand side containing the boundary conditions."
   ]
  },
  {
   "cell_type": "code",
   "execution_count": 4,
   "id": "romance-findings",
   "metadata": {},
   "outputs": [],
   "source": [
    "# construct the local matrices\n",
    "face_mass = pg.face_mass(mdg)\n",
    "cell_mass = pg.cell_mass(mdg)\n",
    "div = pg.div(mdg)\n",
    "\n",
    "# assemble the saddle point problem\n",
    "spp = sps.bmat([[face_mass, -div.T], \n",
    "                [      div,   None]], format=\"csc\")\n",
    "\n",
    "# get the degrees of freedom for each variable\n",
    "cell_dof, face_dof = div.shape\n",
    "dofs = np.cumsum([face_dof])\n",
    "\n",
    "# assemble the right-hand side\n",
    "rhs = bc_val\n",
    "rhs[dofs[0]:] += cell_mass * source"
   ]
  },
  {
   "cell_type": "markdown",
   "id": "mobile-nirvana",
   "metadata": {},
   "source": [
    "We need to solve the linear system, PyGeoN provides a framework for that. The actual imposition of essential boundary conditions (flux boundary conditions) might change the symmetry of the global system, the class `pg.LinearSystem` preserves this structure by internally eliminating these degrees of freedom. Once the problem is solved, we extract the two solutions $q$ and $p$."
   ]
  },
  {
   "cell_type": "code",
   "execution_count": 5,
   "id": "subtle-wonder",
   "metadata": {},
   "outputs": [],
   "source": [
    "# solve the problem\n",
    "ls = pg.LinearSystem(spp, rhs)\n",
    "ls.flag_ess_bc(np.hstack(bc_ess), np.zeros(bc_ess.size))\n",
    "x = ls.solve()\n",
    "\n",
    "# extract the variables\n",
    "q, p = np.split(x, dofs)"
   ]
  },
  {
   "cell_type": "markdown",
   "id": "pacific-alpha",
   "metadata": {},
   "source": [
    "Since the computed $q$ is one value per facet of the grid, for visualization purposes we project the flux in each cell center as vector. We finally export the solution to be visualized by [ParaView](https://www.paraview.org/)."
   ]
  },
  {
   "cell_type": "code",
   "execution_count": 6,
   "id": "satisfactory-jerusalem",
   "metadata": {},
   "outputs": [],
   "source": [
    "# post process velocity\n",
    "face_proj = pg.proj_faces_to_cells(mdg)\n",
    "cell_q = (face_proj * q).reshape((3, -1), order=\"F\")\n",
    "\n",
    "for _, data in mdg.subdomains(return_data=True):\n",
    "    data[pp.STATE] = {\"cell_q\": cell_q, \"p\": p}\n",
    "\n",
    "save = pp.Exporter(mdg, \"sol\")\n",
    "save.write_vtu([\"cell_q\", \"p\"])"
   ]
  },
  {
   "cell_type": "markdown",
   "id": "developing-mobile",
   "metadata": {},
   "source": [
    "A representation of the computed solution is given below, where the cells are colored with $p$ and the arrows are the $q$. <br>\n",
    "![](fig/darcy.png)"
   ]
  }
 ],
 "metadata": {
  "kernelspec": {
   "display_name": "Python 3",
   "language": "python",
   "name": "python3"
  },
  "language_info": {
   "codemirror_mode": {
    "name": "ipython",
    "version": 3
   },
   "file_extension": ".py",
   "mimetype": "text/x-python",
   "name": "python",
   "nbconvert_exporter": "python",
   "pygments_lexer": "ipython3",
   "version": "3.8.6"
  }
 },
 "nbformat": 4,
 "nbformat_minor": 5
}
